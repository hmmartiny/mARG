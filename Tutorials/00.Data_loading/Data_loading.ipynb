{
 "metadata": {
  "language_info": {
   "codemirror_mode": {
    "name": "ipython",
    "version": 3
   },
   "file_extension": ".py",
   "mimetype": "text/x-python",
   "name": "python",
   "nbconvert_exporter": "python",
   "pygments_lexer": "ipython3",
   "version": "3.8.0-final"
  },
  "orig_nbformat": 2,
  "kernelspec": {
   "name": "python3",
   "display_name": "Python 3 (ipykernel)",
   "language": "python"
  }
 },
 "nbformat": 4,
 "nbformat_minor": 2,
 "cells": [
  {
   "source": [
    "# Data Loading (Python)\n",
    "<small>Tutorial written by: Hannah-Marie Martiny (hanmar@food.dtu.dk)\n",
    "<br>Last updated: 20-12-2021</small>\n",
    "\n",
    "In this tutorial, a brief overview of how to load the data in the different formats are given: MySQL, TSV and HDF.\n",
    "\n",
    "<em>NOTE: The various settings that are sensitive are stored in a config.json file, but just change the settings to what fit your own setup.</em>"
   ],
   "cell_type": "markdown",
   "metadata": {}
  },
  {
   "cell_type": "code",
   "execution_count": 10,
   "metadata": {},
   "outputs": [],
   "source": [
    "import json\n",
    "with open('../config.json', 'r') as source:\n",
    "    config = json.load(source)\n",
    "\n",
    "database=config['database'] # name of database\n",
    "host=config['host'] # host address of MySQL server\n",
    "port=config['port'] # port of MySQL server\n",
    "user=config['user'] # user name\n",
    "passwd=config['password'] # password for user \n",
    "dataDir=config['datadir'] # directory where data files are stored"
   ]
  },
  {
   "source": [
    " ## MySQL\n",
    "### Loading MySQL dumps\n",
    "For each of the dump files (.sql), load them with the command `mysql db_name < dump-file.sql`. `db_name` is the name of database to contain the tables, and the `dump-file.sql` is the file containing the table structure and data.\n",
    "\n",
    "We have written a short bash script [`loader.sh`](loader.sh) for this, where we give the path to the directory containing dump files (`-d $dataDir`) and the name of the MySQL database (`-n $database`):\n",
    "```\n",
    "> ../loader.sh -d $dataDir -n $database\n",
    "```"
   ],
   "cell_type": "markdown",
   "metadata": {}
  },
  {
   "source": [
    "### Reading data from a MySQL  database\n",
    "#### Pandas \n",
    "It is possibly to use the [`pandas.read_sql`](https://pandas.pydata.org/docs/reference/api/pandas.read_sql.html) function to query the database, although this also requires [mysql-connector-python](https://dev.mysql.com/doc/connector-python/en/connector-python-installation-binary.html) to be installed."
   ],
   "cell_type": "markdown",
   "metadata": {}
  },
  {
   "cell_type": "code",
   "execution_count": 7,
   "metadata": {},
   "outputs": [
    {
     "output_type": "stream",
     "name": "stdout",
     "text": [
      "Requirement already satisfied: mysql-connector-python in /Users/hanmar/.pyenv/versions/3.7.0/lib/python3.7/site-packages (8.0.27)\n",
      "Requirement already satisfied: protobuf>=3.0.0 in /Users/hanmar/.pyenv/versions/3.7.0/lib/python3.7/site-packages (from mysql-connector-python) (3.19.1)\n",
      "\u001b[33mYou are using pip version 10.0.1, however version 21.3.1 is available.\n",
      "You should consider upgrading via the 'pip install --upgrade pip' command.\u001b[0m\n"
     ]
    },
    {
     "output_type": "execute_result",
     "data": {
      "text/plain": [
       "  run_accession sample_accession project_accession country location continent  \\\n",
       "0     DRR000836     SAMD00002573        PRJDA61421    None     None      None   \n",
       "1     DRR000980     SAMD00010106         PRJDB2325    None     None      None   \n",
       "2     DRR000981     SAMD00010105         PRJDB2325    None     None      None   \n",
       "3     DRR001376     SAMD00006238        PRJDA72837    None     None      None   \n",
       "4     DRR001455     SAMD00015677         PRJDB2729    None     None      None   \n",
       "\n",
       "  collection_date   tax_id                    host  host_tax_id  \\\n",
       "0            None   939928  rhizosphere metagenome          NaN   \n",
       "1            None  1006967        shoot metagenome          NaN   \n",
       "2            None  1006967        shoot metagenome          NaN   \n",
       "3            None     9606            Homo sapiens       9606.0   \n",
       "4            None   410658         soil metagenome          NaN   \n",
       "\n",
       "  instrument_platform              instrument_model library_layout  raw_reads  \\\n",
       "0               LS454           454 GS FLX Titanium         SINGLE    1268608   \n",
       "1               LS454                    454 GS FLX         SINGLE    1207522   \n",
       "2               LS454                    454 GS FLX         SINGLE     802422   \n",
       "3            ILLUMINA  Illumina Genome Analyzer IIx         SINGLE     336278   \n",
       "4            ILLUMINA  Illumina Genome Analyzer IIx         PAIRED   21452087   \n",
       "\n",
       "   trimmed_reads   raw_bases  trimmed_bases  trimmed_fragments  \n",
       "0      1247751.0   641025182    411961081.0          1247751.0  \n",
       "1      1190673.0   596228115    416966759.0          1190673.0  \n",
       "2       792888.0   424054817    303648013.0           792888.0  \n",
       "3       256975.0    42034750     26464638.0           256975.0  \n",
       "4      5146184.0  3217813050    336410211.0          7991359.0  "
      ],
      "text/html": "<div>\n<style scoped>\n    .dataframe tbody tr th:only-of-type {\n        vertical-align: middle;\n    }\n\n    .dataframe tbody tr th {\n        vertical-align: top;\n    }\n\n    .dataframe thead th {\n        text-align: right;\n    }\n</style>\n<table border=\"1\" class=\"dataframe\">\n  <thead>\n    <tr style=\"text-align: right;\">\n      <th></th>\n      <th>run_accession</th>\n      <th>sample_accession</th>\n      <th>project_accession</th>\n      <th>country</th>\n      <th>location</th>\n      <th>continent</th>\n      <th>collection_date</th>\n      <th>tax_id</th>\n      <th>host</th>\n      <th>host_tax_id</th>\n      <th>instrument_platform</th>\n      <th>instrument_model</th>\n      <th>library_layout</th>\n      <th>raw_reads</th>\n      <th>trimmed_reads</th>\n      <th>raw_bases</th>\n      <th>trimmed_bases</th>\n      <th>trimmed_fragments</th>\n    </tr>\n  </thead>\n  <tbody>\n    <tr>\n      <th>0</th>\n      <td>DRR000836</td>\n      <td>SAMD00002573</td>\n      <td>PRJDA61421</td>\n      <td>None</td>\n      <td>None</td>\n      <td>None</td>\n      <td>None</td>\n      <td>939928</td>\n      <td>rhizosphere metagenome</td>\n      <td>NaN</td>\n      <td>LS454</td>\n      <td>454 GS FLX Titanium</td>\n      <td>SINGLE</td>\n      <td>1268608</td>\n      <td>1247751.0</td>\n      <td>641025182</td>\n      <td>411961081.0</td>\n      <td>1247751.0</td>\n    </tr>\n    <tr>\n      <th>1</th>\n      <td>DRR000980</td>\n      <td>SAMD00010106</td>\n      <td>PRJDB2325</td>\n      <td>None</td>\n      <td>None</td>\n      <td>None</td>\n      <td>None</td>\n      <td>1006967</td>\n      <td>shoot metagenome</td>\n      <td>NaN</td>\n      <td>LS454</td>\n      <td>454 GS FLX</td>\n      <td>SINGLE</td>\n      <td>1207522</td>\n      <td>1190673.0</td>\n      <td>596228115</td>\n      <td>416966759.0</td>\n      <td>1190673.0</td>\n    </tr>\n    <tr>\n      <th>2</th>\n      <td>DRR000981</td>\n      <td>SAMD00010105</td>\n      <td>PRJDB2325</td>\n      <td>None</td>\n      <td>None</td>\n      <td>None</td>\n      <td>None</td>\n      <td>1006967</td>\n      <td>shoot metagenome</td>\n      <td>NaN</td>\n      <td>LS454</td>\n      <td>454 GS FLX</td>\n      <td>SINGLE</td>\n      <td>802422</td>\n      <td>792888.0</td>\n      <td>424054817</td>\n      <td>303648013.0</td>\n      <td>792888.0</td>\n    </tr>\n    <tr>\n      <th>3</th>\n      <td>DRR001376</td>\n      <td>SAMD00006238</td>\n      <td>PRJDA72837</td>\n      <td>None</td>\n      <td>None</td>\n      <td>None</td>\n      <td>None</td>\n      <td>9606</td>\n      <td>Homo sapiens</td>\n      <td>9606.0</td>\n      <td>ILLUMINA</td>\n      <td>Illumina Genome Analyzer IIx</td>\n      <td>SINGLE</td>\n      <td>336278</td>\n      <td>256975.0</td>\n      <td>42034750</td>\n      <td>26464638.0</td>\n      <td>256975.0</td>\n    </tr>\n    <tr>\n      <th>4</th>\n      <td>DRR001455</td>\n      <td>SAMD00015677</td>\n      <td>PRJDB2729</td>\n      <td>None</td>\n      <td>None</td>\n      <td>None</td>\n      <td>None</td>\n      <td>410658</td>\n      <td>soil metagenome</td>\n      <td>NaN</td>\n      <td>ILLUMINA</td>\n      <td>Illumina Genome Analyzer IIx</td>\n      <td>PAIRED</td>\n      <td>21452087</td>\n      <td>5146184.0</td>\n      <td>3217813050</td>\n      <td>336410211.0</td>\n      <td>7991359.0</td>\n    </tr>\n  </tbody>\n</table>\n</div>"
     },
     "metadata": {},
     "execution_count": 7
    }
   ],
   "source": [
    "!python -m pip install mysql-connector-python\n",
    "import mysql.connector as connection\n",
    "import pandas as pd\n",
    "\n",
    "mydb = connection.connect(host=host, port=port, database=database, user=user, passwd=passwd, use_pure=True)\n",
    "query = \"select * from metadata\"\n",
    "df = pd.read_sql(query, mydb)\n",
    "mydb.close()\n",
    "\n",
    "df.head()"
   ]
  },
  {
   "source": [
    "#### Custom function that uses MySQL cli\n",
    "This is a custom function that interacts with the mysql client installed in your terminal, where you can add the configuration settings in the `args=` argument in the function."
   ],
   "cell_type": "markdown",
   "metadata": {}
  },
  {
   "cell_type": "code",
   "execution_count": 6,
   "metadata": {},
   "outputs": [
    {
     "output_type": "execute_result",
     "data": {
      "text/plain": [
       "  run_accession sample_accession project_accession country location continent  \\\n",
       "0     DRR000836     SAMD00002573        PRJDA61421     NaN      NaN       NaN   \n",
       "1     DRR000980     SAMD00010106         PRJDB2325     NaN      NaN       NaN   \n",
       "2     DRR000981     SAMD00010105         PRJDB2325     NaN      NaN       NaN   \n",
       "3     DRR001376     SAMD00006238        PRJDA72837     NaN      NaN       NaN   \n",
       "4     DRR001455     SAMD00015677         PRJDB2729     NaN      NaN       NaN   \n",
       "\n",
       "  collection_date   tax_id                    host  host_tax_id  \\\n",
       "0             NaN   939928  rhizosphere metagenome          NaN   \n",
       "1             NaN  1006967        shoot metagenome          NaN   \n",
       "2             NaN  1006967        shoot metagenome          NaN   \n",
       "3             NaN     9606            Homo sapiens       9606.0   \n",
       "4             NaN   410658         soil metagenome          NaN   \n",
       "\n",
       "  instrument_platform              instrument_model library_layout  raw_reads  \\\n",
       "0               LS454           454 GS FLX Titanium         SINGLE    1268608   \n",
       "1               LS454                    454 GS FLX         SINGLE    1207522   \n",
       "2               LS454                    454 GS FLX         SINGLE     802422   \n",
       "3            ILLUMINA  Illumina Genome Analyzer IIx         SINGLE     336278   \n",
       "4            ILLUMINA  Illumina Genome Analyzer IIx         PAIRED   21452087   \n",
       "\n",
       "   trimmed_reads   raw_bases  trimmed_bases  trimmed_fragments  \n",
       "0      1247751.0   641025182    411961081.0          1247751.0  \n",
       "1      1190673.0   596228115    416966759.0          1190673.0  \n",
       "2       792888.0   424054817    303648013.0           792888.0  \n",
       "3       256975.0    42034750     26464638.0           256975.0  \n",
       "4      5146184.0  3217813050    336410211.0          7991359.0  "
      ],
      "text/html": "<div>\n<style scoped>\n    .dataframe tbody tr th:only-of-type {\n        vertical-align: middle;\n    }\n\n    .dataframe tbody tr th {\n        vertical-align: top;\n    }\n\n    .dataframe thead th {\n        text-align: right;\n    }\n</style>\n<table border=\"1\" class=\"dataframe\">\n  <thead>\n    <tr style=\"text-align: right;\">\n      <th></th>\n      <th>run_accession</th>\n      <th>sample_accession</th>\n      <th>project_accession</th>\n      <th>country</th>\n      <th>location</th>\n      <th>continent</th>\n      <th>collection_date</th>\n      <th>tax_id</th>\n      <th>host</th>\n      <th>host_tax_id</th>\n      <th>instrument_platform</th>\n      <th>instrument_model</th>\n      <th>library_layout</th>\n      <th>raw_reads</th>\n      <th>trimmed_reads</th>\n      <th>raw_bases</th>\n      <th>trimmed_bases</th>\n      <th>trimmed_fragments</th>\n    </tr>\n  </thead>\n  <tbody>\n    <tr>\n      <th>0</th>\n      <td>DRR000836</td>\n      <td>SAMD00002573</td>\n      <td>PRJDA61421</td>\n      <td>NaN</td>\n      <td>NaN</td>\n      <td>NaN</td>\n      <td>NaN</td>\n      <td>939928</td>\n      <td>rhizosphere metagenome</td>\n      <td>NaN</td>\n      <td>LS454</td>\n      <td>454 GS FLX Titanium</td>\n      <td>SINGLE</td>\n      <td>1268608</td>\n      <td>1247751.0</td>\n      <td>641025182</td>\n      <td>411961081.0</td>\n      <td>1247751.0</td>\n    </tr>\n    <tr>\n      <th>1</th>\n      <td>DRR000980</td>\n      <td>SAMD00010106</td>\n      <td>PRJDB2325</td>\n      <td>NaN</td>\n      <td>NaN</td>\n      <td>NaN</td>\n      <td>NaN</td>\n      <td>1006967</td>\n      <td>shoot metagenome</td>\n      <td>NaN</td>\n      <td>LS454</td>\n      <td>454 GS FLX</td>\n      <td>SINGLE</td>\n      <td>1207522</td>\n      <td>1190673.0</td>\n      <td>596228115</td>\n      <td>416966759.0</td>\n      <td>1190673.0</td>\n    </tr>\n    <tr>\n      <th>2</th>\n      <td>DRR000981</td>\n      <td>SAMD00010105</td>\n      <td>PRJDB2325</td>\n      <td>NaN</td>\n      <td>NaN</td>\n      <td>NaN</td>\n      <td>NaN</td>\n      <td>1006967</td>\n      <td>shoot metagenome</td>\n      <td>NaN</td>\n      <td>LS454</td>\n      <td>454 GS FLX</td>\n      <td>SINGLE</td>\n      <td>802422</td>\n      <td>792888.0</td>\n      <td>424054817</td>\n      <td>303648013.0</td>\n      <td>792888.0</td>\n    </tr>\n    <tr>\n      <th>3</th>\n      <td>DRR001376</td>\n      <td>SAMD00006238</td>\n      <td>PRJDA72837</td>\n      <td>NaN</td>\n      <td>NaN</td>\n      <td>NaN</td>\n      <td>NaN</td>\n      <td>9606</td>\n      <td>Homo sapiens</td>\n      <td>9606.0</td>\n      <td>ILLUMINA</td>\n      <td>Illumina Genome Analyzer IIx</td>\n      <td>SINGLE</td>\n      <td>336278</td>\n      <td>256975.0</td>\n      <td>42034750</td>\n      <td>26464638.0</td>\n      <td>256975.0</td>\n    </tr>\n    <tr>\n      <th>4</th>\n      <td>DRR001455</td>\n      <td>SAMD00015677</td>\n      <td>PRJDB2729</td>\n      <td>NaN</td>\n      <td>NaN</td>\n      <td>NaN</td>\n      <td>NaN</td>\n      <td>410658</td>\n      <td>soil metagenome</td>\n      <td>NaN</td>\n      <td>ILLUMINA</td>\n      <td>Illumina Genome Analyzer IIx</td>\n      <td>PAIRED</td>\n      <td>21452087</td>\n      <td>5146184.0</td>\n      <td>3217813050</td>\n      <td>336410211.0</td>\n      <td>7991359.0</td>\n    </tr>\n  </tbody>\n</table>\n</div>"
     },
     "metadata": {},
     "execution_count": 6
    }
   ],
   "source": [
    "import subprocess\n",
    "import pandas as pd\n",
    "from io import StringIO\n",
    "\n",
    "def query_db(query, args=''):\n",
    "    cmd = \"mysql {} -e \\\"{}\\\"\".format(args, query)\n",
    "    p = subprocess.run(cmd, shell=True, stdout=subprocess.PIPE, stderr=subprocess.PIPE)\n",
    "\n",
    "    if p.returncode > 0:\n",
    "        print(\"Failed to query database with error:\")\n",
    "        print(p.stderr.decode())\n",
    "    \n",
    "    else:\n",
    "        df = pd.read_csv(StringIO(p.stdout.decode()), sep='\\t')\n",
    "        return df\n",
    "\n",
    "cli_args = f\"--database={database} --host={host} --port={port} --user={user} --password={passwd}\"\n",
    "df = query_db(\"select * from metadata\", args=cli_args)\n",
    "df.head()"
   ]
  },
  {
   "source": [
    "## Tab-separated files (TSV)\n",
    "It is fairly straightforward to read the .tsv files with Pandas, here is an example:"
   ],
   "cell_type": "markdown",
   "metadata": {}
  },
  {
   "cell_type": "code",
   "execution_count": 8,
   "metadata": {},
   "outputs": [
    {
     "output_type": "execute_result",
     "data": {
      "text/plain": [
       "  run_accession sample_accession project_accession  country  location  \\\n",
       "0     DRR000836     SAMD00002573        PRJDA61421      NaN       NaN   \n",
       "1     DRR000980     SAMD00010106         PRJDB2325      NaN       NaN   \n",
       "2     DRR000981     SAMD00010105         PRJDB2325      NaN       NaN   \n",
       "3     DRR001376     SAMD00006238        PRJDA72837      NaN       NaN   \n",
       "4     DRR001455     SAMD00015677         PRJDB2729      NaN       NaN   \n",
       "\n",
       "   continent  collection_date   tax_id                    host  host_tax_id  \\\n",
       "0        NaN              NaN   939928  rhizosphere metagenome          NaN   \n",
       "1        NaN              NaN  1006967        shoot metagenome          NaN   \n",
       "2        NaN              NaN  1006967        shoot metagenome          NaN   \n",
       "3        NaN              NaN     9606            Homo sapiens       9606.0   \n",
       "4        NaN              NaN   410658         soil metagenome          NaN   \n",
       "\n",
       "  instrument_platform              instrument_model library_layout  raw_reads  \\\n",
       "0               LS454           454 GS FLX Titanium         SINGLE    1268608   \n",
       "1               LS454                    454 GS FLX         SINGLE    1207522   \n",
       "2               LS454                    454 GS FLX         SINGLE     802422   \n",
       "3            ILLUMINA  Illumina Genome Analyzer IIx         SINGLE     336278   \n",
       "4            ILLUMINA  Illumina Genome Analyzer IIx         PAIRED   21452087   \n",
       "\n",
       "   trimmed_reads   raw_bases  trimmed_bases  trimmed_fragments  \n",
       "0        1247751   641025182      411961081            1247751  \n",
       "1        1190673   596228115      416966759            1190673  \n",
       "2         792888   424054817      303648013             792888  \n",
       "3         256975    42034750       26464638             256975  \n",
       "4        5146184  3217813050      336410211            7991359  "
      ],
      "text/html": "<div>\n<style scoped>\n    .dataframe tbody tr th:only-of-type {\n        vertical-align: middle;\n    }\n\n    .dataframe tbody tr th {\n        vertical-align: top;\n    }\n\n    .dataframe thead th {\n        text-align: right;\n    }\n</style>\n<table border=\"1\" class=\"dataframe\">\n  <thead>\n    <tr style=\"text-align: right;\">\n      <th></th>\n      <th>run_accession</th>\n      <th>sample_accession</th>\n      <th>project_accession</th>\n      <th>country</th>\n      <th>location</th>\n      <th>continent</th>\n      <th>collection_date</th>\n      <th>tax_id</th>\n      <th>host</th>\n      <th>host_tax_id</th>\n      <th>instrument_platform</th>\n      <th>instrument_model</th>\n      <th>library_layout</th>\n      <th>raw_reads</th>\n      <th>trimmed_reads</th>\n      <th>raw_bases</th>\n      <th>trimmed_bases</th>\n      <th>trimmed_fragments</th>\n    </tr>\n  </thead>\n  <tbody>\n    <tr>\n      <th>0</th>\n      <td>DRR000836</td>\n      <td>SAMD00002573</td>\n      <td>PRJDA61421</td>\n      <td>NaN</td>\n      <td>NaN</td>\n      <td>NaN</td>\n      <td>NaN</td>\n      <td>939928</td>\n      <td>rhizosphere metagenome</td>\n      <td>NaN</td>\n      <td>LS454</td>\n      <td>454 GS FLX Titanium</td>\n      <td>SINGLE</td>\n      <td>1268608</td>\n      <td>1247751</td>\n      <td>641025182</td>\n      <td>411961081</td>\n      <td>1247751</td>\n    </tr>\n    <tr>\n      <th>1</th>\n      <td>DRR000980</td>\n      <td>SAMD00010106</td>\n      <td>PRJDB2325</td>\n      <td>NaN</td>\n      <td>NaN</td>\n      <td>NaN</td>\n      <td>NaN</td>\n      <td>1006967</td>\n      <td>shoot metagenome</td>\n      <td>NaN</td>\n      <td>LS454</td>\n      <td>454 GS FLX</td>\n      <td>SINGLE</td>\n      <td>1207522</td>\n      <td>1190673</td>\n      <td>596228115</td>\n      <td>416966759</td>\n      <td>1190673</td>\n    </tr>\n    <tr>\n      <th>2</th>\n      <td>DRR000981</td>\n      <td>SAMD00010105</td>\n      <td>PRJDB2325</td>\n      <td>NaN</td>\n      <td>NaN</td>\n      <td>NaN</td>\n      <td>NaN</td>\n      <td>1006967</td>\n      <td>shoot metagenome</td>\n      <td>NaN</td>\n      <td>LS454</td>\n      <td>454 GS FLX</td>\n      <td>SINGLE</td>\n      <td>802422</td>\n      <td>792888</td>\n      <td>424054817</td>\n      <td>303648013</td>\n      <td>792888</td>\n    </tr>\n    <tr>\n      <th>3</th>\n      <td>DRR001376</td>\n      <td>SAMD00006238</td>\n      <td>PRJDA72837</td>\n      <td>NaN</td>\n      <td>NaN</td>\n      <td>NaN</td>\n      <td>NaN</td>\n      <td>9606</td>\n      <td>Homo sapiens</td>\n      <td>9606.0</td>\n      <td>ILLUMINA</td>\n      <td>Illumina Genome Analyzer IIx</td>\n      <td>SINGLE</td>\n      <td>336278</td>\n      <td>256975</td>\n      <td>42034750</td>\n      <td>26464638</td>\n      <td>256975</td>\n    </tr>\n    <tr>\n      <th>4</th>\n      <td>DRR001455</td>\n      <td>SAMD00015677</td>\n      <td>PRJDB2729</td>\n      <td>NaN</td>\n      <td>NaN</td>\n      <td>NaN</td>\n      <td>NaN</td>\n      <td>410658</td>\n      <td>soil metagenome</td>\n      <td>NaN</td>\n      <td>ILLUMINA</td>\n      <td>Illumina Genome Analyzer IIx</td>\n      <td>PAIRED</td>\n      <td>21452087</td>\n      <td>5146184</td>\n      <td>3217813050</td>\n      <td>336410211</td>\n      <td>7991359</td>\n    </tr>\n  </tbody>\n</table>\n</div>"
     },
     "metadata": {},
     "execution_count": 8
    }
   ],
   "source": [
    "import os\n",
    "import pandas as pd\n",
    "tsvFile = os.path.join(dataDir, 'metadata.tsv')\n",
    "df = pd.read_csv(tsvFile, sep='\\t')\n",
    "df.head()"
   ]
  },
  {
   "source": [
    "## HDF5 files\n",
    "HDF5 is a data software ibrary that is built for fast I/O processing and storage, and the pandas library contains the function [`pandas.read_hdf`](https://pandas.pydata.org/docs/reference/api/pandas.read_hdf.html)."
   ],
   "cell_type": "markdown",
   "metadata": {}
  },
  {
   "cell_type": "code",
   "execution_count": 9,
   "metadata": {},
   "outputs": [
    {
     "output_type": "execute_result",
     "data": {
      "text/plain": [
       "  run_accession sample_accession project_accession  country  location  \\\n",
       "0     DRR000836     SAMD00002573        PRJDA61421      NaN       NaN   \n",
       "1     DRR000980     SAMD00010106         PRJDB2325      NaN       NaN   \n",
       "2     DRR000981     SAMD00010105         PRJDB2325      NaN       NaN   \n",
       "3     DRR001376     SAMD00006238        PRJDA72837      NaN       NaN   \n",
       "4     DRR001455     SAMD00015677         PRJDB2729      NaN       NaN   \n",
       "\n",
       "   continent  collection_date   tax_id                    host  host_tax_id  \\\n",
       "0        NaN              NaN   939928  rhizosphere metagenome          NaN   \n",
       "1        NaN              NaN  1006967        shoot metagenome          NaN   \n",
       "2        NaN              NaN  1006967        shoot metagenome          NaN   \n",
       "3        NaN              NaN     9606            Homo sapiens       9606.0   \n",
       "4        NaN              NaN   410658         soil metagenome          NaN   \n",
       "\n",
       "  instrument_platform              instrument_model library_layout  raw_reads  \\\n",
       "0               LS454           454 GS FLX Titanium         SINGLE    1268608   \n",
       "1               LS454                    454 GS FLX         SINGLE    1207522   \n",
       "2               LS454                    454 GS FLX         SINGLE     802422   \n",
       "3            ILLUMINA  Illumina Genome Analyzer IIx         SINGLE     336278   \n",
       "4            ILLUMINA  Illumina Genome Analyzer IIx         PAIRED   21452087   \n",
       "\n",
       "   trimmed_reads   raw_bases  trimmed_bases  trimmed_fragments  \n",
       "0        1247751   641025182      411961081            1247751  \n",
       "1        1190673   596228115      416966759            1190673  \n",
       "2         792888   424054817      303648013             792888  \n",
       "3         256975    42034750       26464638             256975  \n",
       "4        5146184  3217813050      336410211            7991359  "
      ],
      "text/html": "<div>\n<style scoped>\n    .dataframe tbody tr th:only-of-type {\n        vertical-align: middle;\n    }\n\n    .dataframe tbody tr th {\n        vertical-align: top;\n    }\n\n    .dataframe thead th {\n        text-align: right;\n    }\n</style>\n<table border=\"1\" class=\"dataframe\">\n  <thead>\n    <tr style=\"text-align: right;\">\n      <th></th>\n      <th>run_accession</th>\n      <th>sample_accession</th>\n      <th>project_accession</th>\n      <th>country</th>\n      <th>location</th>\n      <th>continent</th>\n      <th>collection_date</th>\n      <th>tax_id</th>\n      <th>host</th>\n      <th>host_tax_id</th>\n      <th>instrument_platform</th>\n      <th>instrument_model</th>\n      <th>library_layout</th>\n      <th>raw_reads</th>\n      <th>trimmed_reads</th>\n      <th>raw_bases</th>\n      <th>trimmed_bases</th>\n      <th>trimmed_fragments</th>\n    </tr>\n  </thead>\n  <tbody>\n    <tr>\n      <th>0</th>\n      <td>DRR000836</td>\n      <td>SAMD00002573</td>\n      <td>PRJDA61421</td>\n      <td>NaN</td>\n      <td>NaN</td>\n      <td>NaN</td>\n      <td>NaN</td>\n      <td>939928</td>\n      <td>rhizosphere metagenome</td>\n      <td>NaN</td>\n      <td>LS454</td>\n      <td>454 GS FLX Titanium</td>\n      <td>SINGLE</td>\n      <td>1268608</td>\n      <td>1247751</td>\n      <td>641025182</td>\n      <td>411961081</td>\n      <td>1247751</td>\n    </tr>\n    <tr>\n      <th>1</th>\n      <td>DRR000980</td>\n      <td>SAMD00010106</td>\n      <td>PRJDB2325</td>\n      <td>NaN</td>\n      <td>NaN</td>\n      <td>NaN</td>\n      <td>NaN</td>\n      <td>1006967</td>\n      <td>shoot metagenome</td>\n      <td>NaN</td>\n      <td>LS454</td>\n      <td>454 GS FLX</td>\n      <td>SINGLE</td>\n      <td>1207522</td>\n      <td>1190673</td>\n      <td>596228115</td>\n      <td>416966759</td>\n      <td>1190673</td>\n    </tr>\n    <tr>\n      <th>2</th>\n      <td>DRR000981</td>\n      <td>SAMD00010105</td>\n      <td>PRJDB2325</td>\n      <td>NaN</td>\n      <td>NaN</td>\n      <td>NaN</td>\n      <td>NaN</td>\n      <td>1006967</td>\n      <td>shoot metagenome</td>\n      <td>NaN</td>\n      <td>LS454</td>\n      <td>454 GS FLX</td>\n      <td>SINGLE</td>\n      <td>802422</td>\n      <td>792888</td>\n      <td>424054817</td>\n      <td>303648013</td>\n      <td>792888</td>\n    </tr>\n    <tr>\n      <th>3</th>\n      <td>DRR001376</td>\n      <td>SAMD00006238</td>\n      <td>PRJDA72837</td>\n      <td>NaN</td>\n      <td>NaN</td>\n      <td>NaN</td>\n      <td>NaN</td>\n      <td>9606</td>\n      <td>Homo sapiens</td>\n      <td>9606.0</td>\n      <td>ILLUMINA</td>\n      <td>Illumina Genome Analyzer IIx</td>\n      <td>SINGLE</td>\n      <td>336278</td>\n      <td>256975</td>\n      <td>42034750</td>\n      <td>26464638</td>\n      <td>256975</td>\n    </tr>\n    <tr>\n      <th>4</th>\n      <td>DRR001455</td>\n      <td>SAMD00015677</td>\n      <td>PRJDB2729</td>\n      <td>NaN</td>\n      <td>NaN</td>\n      <td>NaN</td>\n      <td>NaN</td>\n      <td>410658</td>\n      <td>soil metagenome</td>\n      <td>NaN</td>\n      <td>ILLUMINA</td>\n      <td>Illumina Genome Analyzer IIx</td>\n      <td>PAIRED</td>\n      <td>21452087</td>\n      <td>5146184</td>\n      <td>3217813050</td>\n      <td>336410211</td>\n      <td>7991359</td>\n    </tr>\n  </tbody>\n</table>\n</div>"
     },
     "metadata": {},
     "execution_count": 9
    }
   ],
   "source": [
    "import os\n",
    "import pandas as pd\n",
    "h5File = os.path.join(dataDir, 'metadata.h5')\n",
    "df = pd.read_hdf(h5File)\n",
    "df.head()"
   ]
  }
 ]
}